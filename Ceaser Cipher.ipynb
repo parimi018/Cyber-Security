{
 "cells": [
  {
   "cell_type": "code",
   "execution_count": 48,
   "id": "1bcf591f",
   "metadata": {},
   "outputs": [],
   "source": [
    "def ceaserCipherEncrypt(p,k):\n",
    "    cip=\"\"\n",
    "    for c in p:\n",
    "        if c==\" \":\n",
    "            cip+=\" \"\n",
    "        elif c.islower():\n",
    "            cip+=chr((ord(c)-ord('a') +k)%26+ ord('a'))\n",
    "        else:\n",
    "            cip+=chr((ord(c)-ord('A') +k)%26+ ord('A'))\n",
    "            \n",
    "    return cip"
   ]
  },
  {
   "cell_type": "code",
   "execution_count": 49,
   "id": "9416950d",
   "metadata": {},
   "outputs": [],
   "source": [
    "def ceaserCipherDecrypt(c,k):\n",
    "    dec=\"\"\n",
    "    for char in c:\n",
    "        if char==\" \":\n",
    "            dec+=\" \"\n",
    "        elif char.islower():\n",
    "            dec+=chr((ord(char)-ord('a') - k)%26 + ord('a'))\n",
    "        else:\n",
    "            dec+=chr((ord(char)-ord('A') - k)%26 + ord('A'))\n",
    "    return dec"
   ]
  },
  {
   "cell_type": "code",
   "execution_count": 50,
   "id": "db7ece48",
   "metadata": {},
   "outputs": [
    {
     "name": "stdout",
     "output_type": "stream",
     "text": [
      "Enter a text to encrypt:Sky is BLUe\n",
      "Enter the key:4\n",
      "The given text is : Sky is BLUe\n",
      "The Encrypted text is : Woc mw FPYi\n",
      "The Decrypted text is : Sky is BLUe\n"
     ]
    }
   ],
   "source": [
    "plain_text = input(\"Enter a text to encrypt:\")\n",
    "key = int(input(\"Enter the key:\"))\n",
    "print(\"The given text is :\",plain_text)\n",
    "cipher_text = ceaserCipherEncrypt(plain_text,key)\n",
    "print(\"The Encrypted text is :\",cipher_text)\n",
    "decrypted_text = ceaserCipherDecrypt(cipher_text,key)\n",
    "print(\"The Decrypted text is :\",decrypted_text)"
   ]
  },
  {
   "cell_type": "code",
   "execution_count": null,
   "id": "f1b07578",
   "metadata": {},
   "outputs": [],
   "source": []
  }
 ],
 "metadata": {
  "kernelspec": {
   "display_name": "Python 3 (ipykernel)",
   "language": "python",
   "name": "python3"
  },
  "language_info": {
   "codemirror_mode": {
    "name": "ipython",
    "version": 3
   },
   "file_extension": ".py",
   "mimetype": "text/x-python",
   "name": "python",
   "nbconvert_exporter": "python",
   "pygments_lexer": "ipython3",
   "version": "3.11.3"
  }
 },
 "nbformat": 4,
 "nbformat_minor": 5
}
