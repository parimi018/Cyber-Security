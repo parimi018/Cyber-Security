{
 "cells": [
  {
   "cell_type": "code",
   "execution_count": 41,
   "id": "f6a1b352",
   "metadata": {},
   "outputs": [],
   "source": [
    "import random"
   ]
  },
  {
   "cell_type": "code",
   "execution_count": 42,
   "id": "dcf29a8e",
   "metadata": {},
   "outputs": [],
   "source": [
    "def GCD(a,b):\n",
    "    if a<b:\n",
    "        mini = a\n",
    "        maxi = b\n",
    "    else:\n",
    "        mini = b\n",
    "        maxi = a\n",
    "    m = 0\n",
    "    for i in range(1,mini+1):\n",
    "        if(mini%i==0 and maxi%i==0 and m<i):\n",
    "            m = i\n",
    "    return m"
   ]
  },
  {
   "cell_type": "code",
   "execution_count": 63,
   "id": "530eac50",
   "metadata": {},
   "outputs": [],
   "source": [
    "def keyGeneration(O_n,n):\n",
    "    for i in range(2,O_n):\n",
    "        if(GCD(i,O_n)==1):\n",
    "            e = i\n",
    "            break\n",
    "    j = 1\n",
    "    var = random.randint(15,40)\n",
    "    count = 0\n",
    "    while True:\n",
    "        if((j*e)%O_n==1 and j!=e):\n",
    "            d = j\n",
    "            count+=1\n",
    "        j+=1\n",
    "        if(count == var):\n",
    "            break\n",
    "    pub_key = [n,e]\n",
    "    pri_key = [n,d]\n",
    "    return pub_key,pri_key,e,d"
   ]
  },
  {
   "cell_type": "code",
   "execution_count": 64,
   "id": "e421a1d9",
   "metadata": {},
   "outputs": [
    {
     "name": "stdout",
     "output_type": "stream",
     "text": [
      "Enter 1st Prime number:5\n",
      "Enter 2nd prime number:7\n",
      "The public key : [35, 5]\n",
      "The Private Key : [35, 773]\n"
     ]
    }
   ],
   "source": [
    "p1 = int(input(\"Enter 1st Prime number:\"))\n",
    "p2 = int(input(\"Enter 2nd prime number:\"))\n",
    "n = p1*p2\n",
    "O_n = (p1-1)*(p2-1)\n",
    "pub_key,pri_key,e,d= keyGeneration(O_n,n)\n",
    "print(f\"The public key : {pub_key}\\nThe Private Key : {pri_key}\")"
   ]
  },
  {
   "cell_type": "code",
   "execution_count": 65,
   "id": "b54c71df",
   "metadata": {},
   "outputs": [
    {
     "name": "stdout",
     "output_type": "stream",
     "text": [
      "Enter a number to encrypt:11\n",
      "Given Number 11 is encrypted as 16\n",
      "Ciphered Number 16 is decrypted as 11\n"
     ]
    }
   ],
   "source": [
    "num=int(input(\"Enter a number to encrypt:\"))\n",
    "c = (num**e)%n\n",
    "print(f\"Given Number {num} is encrypted as {c}\")\n",
    "p = (c**d)%n\n",
    "print(f\"Ciphered Number {c} is decrypted as {p}\")"
   ]
  },
  {
   "cell_type": "code",
   "execution_count": 49,
   "id": "3e6854e7",
   "metadata": {},
   "outputs": [
    {
     "data": {
      "text/plain": [
       "1331"
      ]
     },
     "execution_count": 49,
     "metadata": {},
     "output_type": "execute_result"
    }
   ],
   "source": [
    "x=11**3\n",
    "x"
   ]
  },
  {
   "cell_type": "code",
   "execution_count": 50,
   "id": "6ec26df9",
   "metadata": {},
   "outputs": [
    {
     "data": {
      "text/plain": [
       "26"
      ]
     },
     "execution_count": 50,
     "metadata": {},
     "output_type": "execute_result"
    }
   ],
   "source": [
    "x%45"
   ]
  },
  {
   "cell_type": "code",
   "execution_count": 54,
   "id": "ed62377c",
   "metadata": {},
   "outputs": [
    {
     "name": "stdout",
     "output_type": "stream",
     "text": [
      "31\n"
     ]
    }
   ],
   "source": [
    "i = 0\n",
    "while True:\n",
    "    if((i*31)%32==1):\n",
    "        print(i)\n",
    "        break\n",
    "    i+=1"
   ]
  },
  {
   "cell_type": "code",
   "execution_count": 55,
   "id": "0beebffd",
   "metadata": {},
   "outputs": [
    {
     "data": {
      "text/plain": [
       "961"
      ]
     },
     "execution_count": 55,
     "metadata": {},
     "output_type": "execute_result"
    }
   ],
   "source": [
    "31*31\n"
   ]
  },
  {
   "cell_type": "code",
   "execution_count": 56,
   "id": "72b9c1b2",
   "metadata": {},
   "outputs": [
    {
     "data": {
      "text/plain": [
       "1"
      ]
     },
     "execution_count": 56,
     "metadata": {},
     "output_type": "execute_result"
    }
   ],
   "source": [
    "961%32"
   ]
  },
  {
   "cell_type": "code",
   "execution_count": null,
   "id": "a61439ab",
   "metadata": {},
   "outputs": [],
   "source": []
  }
 ],
 "metadata": {
  "kernelspec": {
   "display_name": "Python 3 (ipykernel)",
   "language": "python",
   "name": "python3"
  },
  "language_info": {
   "codemirror_mode": {
    "name": "ipython",
    "version": 3
   },
   "file_extension": ".py",
   "mimetype": "text/x-python",
   "name": "python",
   "nbconvert_exporter": "python",
   "pygments_lexer": "ipython3",
   "version": "3.11.3"
  }
 },
 "nbformat": 4,
 "nbformat_minor": 5
}
