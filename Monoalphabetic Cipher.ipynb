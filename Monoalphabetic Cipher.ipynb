{
 "cells": [
  {
   "cell_type": "code",
   "execution_count": 5,
   "id": "580fbf7b",
   "metadata": {},
   "outputs": [],
   "source": [
    "import string\n",
    "import random"
   ]
  },
  {
   "cell_type": "code",
   "execution_count": null,
   "id": "6e2483c0",
   "metadata": {},
   "outputs": [],
   "source": [
    "def monoAlphaEncrypt(p,k):\n",
    "    if len(k)!=26:\n",
    "        if len(k)<26:\n",
    "            i=0\n",
    "            while(len(k)!=26):\n",
    "                if string.ascii_lowercase[i] not in k:\n",
    "                    k+=string.ascii_lowercase[i]\n",
    "                i+=1\n",
    "        elif len(k)>26:"
   ]
  },
  {
   "cell_type": "code",
   "execution_count": null,
   "id": "b622d384",
   "metadata": {},
   "outputs": [],
   "source": [
    "plain_text = input(\"Enter a text to encrypt:\")\n",
    "key = input(\"Enter the key:\")\n",
    "print(\"The given text is :\",plain_text)\n",
    "cipher_text = monoAlphaEncrypt(plain_text,key)\n",
    "print(\"The Encrypted text is :\",cipher_text)\n",
    "decrypted_text = monoAlphaDecrypt(cipher_text,key)\n",
    "print(\"The Decrypted text is :\",decrypted_text)"
   ]
  },
  {
   "cell_type": "code",
   "execution_count": 11,
   "id": "5fc16976",
   "metadata": {},
   "outputs": [
    {
     "data": {
      "text/plain": [
       "'cSiGI'"
      ]
     },
     "execution_count": 11,
     "metadata": {},
     "output_type": "execute_result"
    }
   ],
   "source": [
    "alpha = list(string.ascii_lowercase) + list(string.ascii_uppercase)\n",
    "key_l = random.choices(alpha,k=5)\n",
    "key = \"\"\n",
    "for i in key_l:\n",
    "    key+= str(i)\n",
    "key"
   ]
  },
  {
   "cell_type": "code",
   "execution_count": 14,
   "id": "ba3ea321",
   "metadata": {},
   "outputs": [
    {
     "data": {
      "text/plain": [
       "'a'"
      ]
     },
     "execution_count": 14,
     "metadata": {},
     "output_type": "execute_result"
    }
   ],
   "source": [
    "import string\n",
    "string.ascii_lowercase[0]"
   ]
  },
  {
   "cell_type": "code",
   "execution_count": null,
   "id": "4349ce16",
   "metadata": {},
   "outputs": [],
   "source": []
  }
 ],
 "metadata": {
  "kernelspec": {
   "display_name": "Python 3 (ipykernel)",
   "language": "python",
   "name": "python3"
  },
  "language_info": {
   "codemirror_mode": {
    "name": "ipython",
    "version": 3
   },
   "file_extension": ".py",
   "mimetype": "text/x-python",
   "name": "python",
   "nbconvert_exporter": "python",
   "pygments_lexer": "ipython3",
   "version": "3.11.3"
  }
 },
 "nbformat": 4,
 "nbformat_minor": 5
}
